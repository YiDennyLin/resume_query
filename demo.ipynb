{
 "cells": [
  {
   "cell_type": "markdown",
   "source": [
    "# Query text-related info in a custom file\n",
    "LangChain + Pinecone + OpenAI"
   ],
   "metadata": {
    "collapsed": false
   }
  },
  {
   "cell_type": "markdown",
   "source": [
    "## Import packages"
   ],
   "metadata": {
    "collapsed": false
   }
  },
  {
   "cell_type": "code",
   "execution_count": null,
   "outputs": [],
   "source": [
    "import pinecone\n",
    "from langchain.embeddings.openai import OpenAIEmbeddings\n",
    "from langchain.vectorstores import Pinecone\n",
    "import boto3\n",
    "import os\n",
    "import io\n",
    "from langchain.document_loaders import PyPDFLoader, Docx2txtLoader\n",
    "import tempfile"
   ],
   "metadata": {
    "collapsed": false
   }
  },
  {
   "cell_type": "markdown",
   "source": [
    "## Set up the api-key"
   ],
   "metadata": {
    "collapsed": false
   }
  },
  {
   "cell_type": "code",
   "execution_count": null,
   "outputs": [],
   "source": [
    "# openai.api_key = \"YOUR_OPENAI_API_KEY\"\n",
    "# pinecone_api_key = \"YOUR_PINECONE_API_KEY\"\n",
    "# pinecone_environment = \"YOUR_PINECONE_ENVIRONMENT\"\n",
    "# pinecone_index_name = \"YOUR_PINECONE_INDEX_NAME\"\n",
    "# aws_access_key_id = 'YOUR_AWS_ACCESS_KEY_ID'\n",
    "# aws_secret_access_key = 'YOUR_AWS_SECRET_ACCESS_KEY'\n",
    "# aws_region_name = 'YOUR_AWS_REGION_NAME'\n"
   ],
   "metadata": {
    "collapsed": false
   }
  },
  {
   "cell_type": "markdown",
   "source": [
    "## Pinecone init"
   ],
   "metadata": {
    "collapsed": false
   }
  },
  {
   "cell_type": "code",
   "execution_count": null,
   "outputs": [],
   "source": [
    "pc = pinecone.Pinecone()"
   ],
   "metadata": {
    "collapsed": false
   }
  },
  {
   "cell_type": "markdown",
   "source": [
    "## Create a serverless index"
   ],
   "metadata": {
    "collapsed": false
   }
  },
  {
   "cell_type": "code",
   "execution_count": null,
   "outputs": [],
   "source": [
    "if pinecone_index_name not in pc.list_indexes().names():\n",
    "    pc.create_index(\n",
    "        name=pinecone_index_name,\n",
    "        dimension=1536,\n",
    "        metric=\"cosine\",\n",
    "        spec=pinecone.ServerlessSpec(\n",
    "            cloud='aws',\n",
    "            region='us-east-1'\n",
    "        )\n",
    "    )\n"
   ],
   "metadata": {
    "collapsed": false
   }
  },
  {
   "cell_type": "code",
   "execution_count": null,
   "outputs": [],
   "source": [
    "index = pc.Index(pinecone_index_name)"
   ],
   "metadata": {
    "collapsed": false
   }
  },
  {
   "cell_type": "code",
   "execution_count": null,
   "outputs": [],
   "source": [
    "embeddings = OpenAIEmbeddings()\n",
    "vectorstore = Pinecone(index=index, embedding=embeddings, text_key=\"text\")"
   ],
   "metadata": {
    "collapsed": false
   }
  },
  {
   "cell_type": "markdown",
   "source": [
    "## AWS S3 init"
   ],
   "metadata": {
    "collapsed": false
   }
  },
  {
   "cell_type": "code",
   "execution_count": null,
   "outputs": [],
   "source": [
    "s3_client = boto3.client(\n",
    "    's3',\n",
    "    aws_access_key_id=aws_access_key_id,\n",
    "    aws_secret_access_key=aws_secret_access_key,\n",
    "    region_name=aws_region_name\n",
    ")"
   ],
   "metadata": {
    "collapsed": false
   }
  },
  {
   "cell_type": "code",
   "execution_count": null,
   "outputs": [],
   "source": [
    "bucket_name = \"erica-model\"\n",
    "folder_path = \"test_resume/\""
   ],
   "metadata": {
    "collapsed": false
   }
  },
  {
   "cell_type": "markdown",
   "source": [
    "## Upsert vectors (from AWS S3)"
   ],
   "metadata": {
    "collapsed": false
   }
  },
  {
   "cell_type": "code",
   "execution_count": null,
   "outputs": [],
   "source": [
    "def read_s3_file(bucket_name, key):\n",
    "    response = s3_client.get_object(Bucket=bucket_name, Key=key)\n",
    "    file_stream = io.BytesIO(response['Body'].read())\n",
    "\n",
    "    if key.lower().endswith(\".pdf\"):\n",
    "        with tempfile.NamedTemporaryFile(delete=False, suffix=\".pdf\") as tmp_file:\n",
    "            tmp_file.write(file_stream.read())\n",
    "            tmp_file.flush()\n",
    "            try:\n",
    "                loader = PyPDFLoader(tmp_file.name)\n",
    "                documents = loader.load()\n",
    "                return \"\\n\".join([doc.page_content for doc in documents])\n",
    "            finally:\n",
    "                os.remove(tmp_file.name)\n",
    "    elif key.lower().endswith(\".docx\"):\n",
    "        with tempfile.NamedTemporaryFile(delete=False, suffix=\".docx\") as tmp_file:\n",
    "            tmp_file.write(file_stream.read())\n",
    "            tmp_file.flush()\n",
    "            try:\n",
    "                loader = Docx2txtLoader(tmp_file.name)\n",
    "                documents = loader.load()\n",
    "                return \"\\n\".join([doc.page_content for doc in documents])\n",
    "            finally:\n",
    "                os.remove(tmp_file.name)\n",
    "    else:\n",
    "        try:\n",
    "            return file_stream.read().decode('utf-8')\n",
    "        except UnicodeDecodeError:\n",
    "            try:\n",
    "                return file_stream.read().decode('latin-1')\n",
    "            except UnicodeDecodeError:\n",
    "                return file_stream.read().decode('iso-8859-1')"
   ],
   "metadata": {
    "collapsed": false
   }
  },
  {
   "cell_type": "code",
   "execution_count": null,
   "outputs": [],
   "source": [
    "def upload_files_to_pinecone(bucket_name, folder_path):\n",
    "    paginator = s3_client.get_paginator('list_objects_v2')\n",
    "    pages = paginator.paginate(Bucket=bucket_name, Prefix=folder_path)\n",
    "\n",
    "    documents = []\n",
    "    for page in pages:\n",
    "        for obj in page.get('Contents', []):\n",
    "            key = obj['Key']\n",
    "            content = read_s3_file(bucket_name, key)\n",
    "            if content:\n",
    "                documents.append({\"id\": key.split('/')[1], \"text\": content})\n",
    "\n",
    "    vectorstore.add_texts(texts=[doc[\"text\"] for doc in documents], metadatas=[{\"id\": doc[\"id\"]} for doc in documents])\n",
    "    print(\"Files uploaded to Pinecone.\")"
   ],
   "metadata": {
    "collapsed": false
   }
  },
  {
   "cell_type": "code",
   "execution_count": null,
   "outputs": [],
   "source": [
    "upload_files_to_pinecone(bucket_name, folder_path)"
   ],
   "metadata": {
    "collapsed": false
   }
  },
  {
   "cell_type": "markdown",
   "source": [
    "## Check the index"
   ],
   "metadata": {
    "collapsed": false
   }
  },
  {
   "cell_type": "code",
   "execution_count": null,
   "outputs": [],
   "source": [
    "print(index.describe_index_stats())\n"
   ],
   "metadata": {
    "collapsed": false
   }
  },
  {
   "cell_type": "markdown",
   "source": [
    "## Run a similarity search"
   ],
   "metadata": {
    "collapsed": false
   }
  },
  {
   "cell_type": "code",
   "execution_count": null,
   "outputs": [],
   "source": [
    "def query_from_pinecone(query):\n",
    "    # vectorstore = Pinecone(index=index, embedding=embeddings.embed_query, text_key=\"text\")\n",
    "    results = vectorstore.similarity_search(query, k=5)\n",
    "\n",
    "    # return results\n",
    "    for match in results:\n",
    "        print(f\"Matched File ID: {match.metadata['id']}\")"
   ],
   "metadata": {
    "collapsed": false
   }
  },
  {
   "cell_type": "code",
   "execution_count": null,
   "outputs": [],
   "source": [
    "query = \"Bachelor's degree in Computer Science, Information Technology, or related field.\\nMinimum of 3 years of experience in front-end development. \\nProficiency in HTML, CSS, JavaScript, and front-end frameworks (e.g., React, Angular, Vue.js).\\nExperience with web platforms like Squiz or similar content management systems.\\nStrong problem-solving and analytical skills.\\nExcellent communication and collaboration abilities.\"\n",
    "query_from_pinecone(query)"
   ],
   "metadata": {
    "collapsed": false
   }
  },
  {
   "cell_type": "code",
   "execution_count": null,
   "outputs": [],
   "source": [
    "query_2 = \"Kevin Jacob\"\n",
    "query_from_pinecone(query_2)"
   ],
   "metadata": {
    "collapsed": false
   }
  },
  {
   "cell_type": "code",
   "execution_count": null,
   "outputs": [],
   "source": [],
   "metadata": {
    "collapsed": false
   }
  },
  {
   "cell_type": "markdown",
   "source": [
    "# Question2Answer"
   ],
   "metadata": {
    "collapsed": false
   }
  },
  {
   "cell_type": "code",
   "execution_count": null,
   "outputs": [],
   "source": [
    "from langchain.chat_models import ChatOpenAI\n",
    "from langchain.chains import RetrievalQA\n",
    "\n",
    "llm = ChatOpenAI(\n",
    "    model_name='gpt-3.5-turbo',\n",
    "    temperature=0.0\n",
    ")\n",
    "\n",
    "qa = RetrievalQA.from_chain_type(\n",
    "    llm=llm,\n",
    "    chain_type=\"stuff\",\n",
    "    retriever=vectorstore.as_retriever()\n",
    ")"
   ],
   "metadata": {
    "collapsed": false
   }
  },
  {
   "cell_type": "code",
   "execution_count": null,
   "outputs": [],
   "source": [
    "qa.run(query)"
   ],
   "metadata": {
    "collapsed": false
   }
  },
  {
   "cell_type": "code",
   "execution_count": null,
   "outputs": [],
   "source": [],
   "metadata": {
    "collapsed": false
   }
  },
  {
   "cell_type": "code",
   "execution_count": null,
   "outputs": [],
   "source": [],
   "metadata": {
    "collapsed": false
   }
  },
  {
   "cell_type": "code",
   "execution_count": null,
   "outputs": [],
   "source": [
    "index.delete(delete_all=True)"
   ],
   "metadata": {
    "collapsed": false
   }
  },
  {
   "cell_type": "code",
   "execution_count": null,
   "outputs": [],
   "source": [],
   "metadata": {
    "collapsed": false
   }
  }
 ],
 "metadata": {
  "kernelspec": {
   "display_name": "Python 3",
   "language": "python",
   "name": "python3"
  },
  "language_info": {
   "codemirror_mode": {
    "name": "ipython",
    "version": 2
   },
   "file_extension": ".py",
   "mimetype": "text/x-python",
   "name": "python",
   "nbconvert_exporter": "python",
   "pygments_lexer": "ipython2",
   "version": "2.7.6"
  }
 },
 "nbformat": 4,
 "nbformat_minor": 0
}
